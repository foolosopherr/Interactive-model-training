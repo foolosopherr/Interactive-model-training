{
 "cells": [
  {
   "cell_type": "code",
   "execution_count": 1,
   "id": "5242f3c8-731d-4935-b672-0f2ae87a6456",
   "metadata": {},
   "outputs": [],
   "source": [
    "import pandas as pd\n",
    "import numpy as np\n",
    "import matplotlib.pyplot as plt\n",
    "import seaborn as sns\n",
    "from pycaret.datasets import get_data\n",
    "import pycaret.classification as clf"
   ]
  },
  {
   "cell_type": "code",
   "execution_count": 21,
   "id": "03157211-fc25-4598-bb69-5fab47d97c97",
   "metadata": {},
   "outputs": [
    {
     "data": {
      "text/html": [
       "<div>\n",
       "<style scoped>\n",
       "    .dataframe tbody tr th:only-of-type {\n",
       "        vertical-align: middle;\n",
       "    }\n",
       "\n",
       "    .dataframe tbody tr th {\n",
       "        vertical-align: top;\n",
       "    }\n",
       "\n",
       "    .dataframe thead th {\n",
       "        text-align: right;\n",
       "    }\n",
       "</style>\n",
       "<table border=\"1\" class=\"dataframe\">\n",
       "  <thead>\n",
       "    <tr style=\"text-align: right;\">\n",
       "      <th></th>\n",
       "      <th>sepal_length</th>\n",
       "      <th>sepal_width</th>\n",
       "      <th>petal_length</th>\n",
       "      <th>petal_width</th>\n",
       "      <th>species</th>\n",
       "    </tr>\n",
       "  </thead>\n",
       "  <tbody>\n",
       "    <tr>\n",
       "      <th>0</th>\n",
       "      <td>5.1</td>\n",
       "      <td>3.5</td>\n",
       "      <td>1.4</td>\n",
       "      <td>0.2</td>\n",
       "      <td>Iris-setosa</td>\n",
       "    </tr>\n",
       "    <tr>\n",
       "      <th>1</th>\n",
       "      <td>4.9</td>\n",
       "      <td>3.0</td>\n",
       "      <td>1.4</td>\n",
       "      <td>0.2</td>\n",
       "      <td>Iris-setosa</td>\n",
       "    </tr>\n",
       "    <tr>\n",
       "      <th>2</th>\n",
       "      <td>4.7</td>\n",
       "      <td>3.2</td>\n",
       "      <td>1.3</td>\n",
       "      <td>0.2</td>\n",
       "      <td>Iris-setosa</td>\n",
       "    </tr>\n",
       "    <tr>\n",
       "      <th>3</th>\n",
       "      <td>4.6</td>\n",
       "      <td>3.1</td>\n",
       "      <td>1.5</td>\n",
       "      <td>0.2</td>\n",
       "      <td>Iris-setosa</td>\n",
       "    </tr>\n",
       "    <tr>\n",
       "      <th>4</th>\n",
       "      <td>5.0</td>\n",
       "      <td>3.6</td>\n",
       "      <td>1.4</td>\n",
       "      <td>0.2</td>\n",
       "      <td>Iris-setosa</td>\n",
       "    </tr>\n",
       "  </tbody>\n",
       "</table>\n",
       "</div>"
      ],
      "text/plain": [
       "   sepal_length  sepal_width  petal_length  petal_width      species\n",
       "0           5.1          3.5           1.4          0.2  Iris-setosa\n",
       "1           4.9          3.0           1.4          0.2  Iris-setosa\n",
       "2           4.7          3.2           1.3          0.2  Iris-setosa\n",
       "3           4.6          3.1           1.5          0.2  Iris-setosa\n",
       "4           5.0          3.6           1.4          0.2  Iris-setosa"
      ]
     },
     "metadata": {},
     "output_type": "display_data"
    }
   ],
   "source": [
    "data = get_data('iris')"
   ]
  },
  {
   "cell_type": "code",
   "execution_count": 22,
   "id": "4eee00d6-d39b-404f-b0de-012d9915ce3a",
   "metadata": {},
   "outputs": [],
   "source": [
    "s = clf.setup(data=data, target='species', html=False, verbose=False, session_id=0)"
   ]
  },
  {
   "cell_type": "code",
   "execution_count": 7,
   "id": "96f0b911-03a4-4568-977a-37fb788ef219",
   "metadata": {},
   "outputs": [],
   "source": [
    "kek = clf.models().reset_index()\n",
    "d = {kek.iloc[i, 1]:fuck.iloc[i, 0] for i in range(kek.shape[0])}"
   ]
  },
  {
   "cell_type": "code",
   "execution_count": 15,
   "id": "5f0ba673-c0cd-4635-b30f-6c02bb7fd98a",
   "metadata": {},
   "outputs": [],
   "source": [
    "pulled = clf.pull()"
   ]
  },
  {
   "cell_type": "code",
   "execution_count": 17,
   "id": "3fa7bfe0-68b9-4d7f-bdf8-ef80473b123f",
   "metadata": {},
   "outputs": [],
   "source": [
    "from train_func import create_pycaret_model"
   ]
  },
  {
   "cell_type": "code",
   "execution_count": null,
   "id": "400dba49-5f7e-4938-a249-32df9650847f",
   "metadata": {},
   "outputs": [],
   "source": [
    "all_plots = {'pipeline':'Schematic drawing of the preprocessing pipeline',\n",
    "             'auc':'Area Under the Curve',\n",
    "             'threshold':'Discrimination Threshold',\n",
    "             'pr':'Precision Recall Curve',\n",
    "             'confusion_matrix':'Confusion Matrix',\n",
    "             'error':'Class Prediction Error',\n",
    "             'class_report':'Classification Report',\n",
    "             'boundary':'Decision Boundary',\n",
    "             'rfe':'Recursive Feature Selection',\n",
    "             'learning':'Learning Curve',\n",
    "             'manifold':'Manifold Learning',\n",
    "             'calibration':'Calibration Curve',\n",
    "             'vc':'Validation Curve',\n",
    "             'dimension':'Dimension Learning',\n",
    "             'feature':'Feature Importance',\n",
    "             'feature_all':'Feature Importance (All)',\n",
    "             'parameter':'Model Hyperparameter',\n",
    "             'lift':'Lift Curve',\n",
    "             'gain':'Gain Chart',\n",
    "             'tree':'Decision Tree',\n",
    "             'ks':'KS Statistic Plot'}"
   ]
  }
 ],
 "metadata": {
  "kernelspec": {
   "display_name": "Python 3 (ipykernel)",
   "language": "python",
   "name": "python3"
  },
  "language_info": {
   "codemirror_mode": {
    "name": "ipython",
    "version": 3
   },
   "file_extension": ".py",
   "mimetype": "text/x-python",
   "name": "python",
   "nbconvert_exporter": "python",
   "pygments_lexer": "ipython3",
   "version": "3.8.13"
  },
  "widgets": {
   "application/vnd.jupyter.widget-state+json": {
    "state": {},
    "version_major": 2,
    "version_minor": 0
   }
  }
 },
 "nbformat": 4,
 "nbformat_minor": 5
}
